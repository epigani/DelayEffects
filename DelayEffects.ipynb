{
 "cells": [
  {
   "attachments": {},
   "cell_type": "markdown",
   "metadata": {},
   "source": [
    "# Delay effects on the stability of large ecosystems"
   ]
  },
  {
   "attachments": {},
   "cell_type": "markdown",
   "metadata": {},
   "source": [
    "Understanding how communities emerge from a large number of interacting entities is a long-standing question in several fields. In ecosystems with randomly coupled species, a delayed dynamics seemed to play a minor role in characterizing the stability close to equilibrium. Here, we study the effects on large ecosystems of species’ interactions that are random as well as delayed. We find that near equilibrium, delayed self-interactions greatly modify the eigenspectrum distribution as predicted by Wigner’s as well as Girko’s laws. We analytically calculate the ensued generalized laws and identify the geometric profile of the eigenvalues in the complex plane.\n",
    "\n",
    "In this repository, we provide the Python code for generating the data used in the paper [\"Delay effects on the stability of large ecosystems\"](https://www.pnas.org/doi/full/10.1073/pnas.2211449119).\n",
    "\n",
    "If you use this code, please cite the following paper:"
   ]
  },
  {
   "attachments": {},
   "cell_type": "markdown",
   "metadata": {},
   "source": [
    "```\n",
    "@article{pigani2022delay,\n",
    "  title={Delay effects on the stability of large ecosystems},\n",
    "  author={Pigani, Emanuele and Sgarbossa, Damiano and Suweis, Samir and Maritan, Amos and Azaele, Sandro},\n",
    "  journal={Proceedings of the National Academy of Sciences},\n",
    "  volume={119},\n",
    "  number={45},\n",
    "  pages={e2211449119},\n",
    "  year={2022},\n",
    "  publisher={National Acad Sciences}\n",
    "}\n",
    "```"
   ]
  },
  {
   "attachments": {},
   "cell_type": "markdown",
   "metadata": {},
   "source": [
    "# Requirements\n",
    "\n",
    "The code is written in Python 3.7.4 and requires the following packages:\n",
    "* numpy\n",
    "* scipy\n",
    "* matplotlib"
   ]
  },
  {
   "attachments": {},
   "cell_type": "markdown",
   "metadata": {},
   "source": [
    "# Importing the libraries"
   ]
  },
  {
   "cell_type": "code",
   "execution_count": 7,
   "metadata": {},
   "outputs": [],
   "source": [
    "# Import libraries\n",
    "import numpy as np\n",
    "from scipy.special import lambertw\n",
    "from scipy import linalg\n",
    "from scipy.stats import norm\n",
    "\n",
    "import matplotlib.pyplot as plt\n",
    "\n",
    "from RandomMatrix import generate_random_matrix, generate_diagonal_matrix\n",
    "from RandomMatrix import eigenvalues_discrete_delay, discrete_system\n",
    "from RandomMatrix import eigenvalues_exponential_delay, exponential_system"
   ]
  },
  {
   "cell_type": "code",
   "execution_count": 8,
   "metadata": {},
   "outputs": [],
   "source": [
    "dA, dB = .2, 1.\n",
    "C, sigma, S = .1, .1, 1000\n",
    "rB = sigma*np.sqrt(C*S)\n",
    "tau = 1."
   ]
  },
  {
   "cell_type": "code",
   "execution_count": 9,
   "metadata": {},
   "outputs": [
    {
     "data": {
      "text/plain": [
       "(0.19895661078704602+1.2593980918567858j)"
      ]
     },
     "execution_count": 9,
     "metadata": {},
     "output_type": "execute_result"
    }
   ],
   "source": [
    "discrete_system(dA, dB, S, C, sigma, tau)"
   ]
  },
  {
   "cell_type": "code",
   "execution_count": null,
   "metadata": {},
   "outputs": [],
   "source": [
    "def generate_random_matrix(S, C, sigma, dB):\n",
    "    '''\n",
    "    Generate a random matrix with a constant diagonal dB, connectance C and variance sigma.\n",
    "    \n",
    "    Parameters\n",
    "    ----------\n",
    "    S : int\n",
    "        Number of species.\n",
    "    C : float  \n",
    "        Connectance of the matrix.\n",
    "    sigma : float   \n",
    "        Variance of the matrix.\n",
    "    dB : float\n",
    "\n",
    "    Returns    \n",
    "    -------\n",
    "    B : array_like\n",
    "        Random matrix.\n",
    "    '''\n",
    "    \n",
    "    B = np.zeros((S, S))\n",
    "    for i in range(B.shape[0]):\n",
    "        for j in range(B.shape[1]):\n",
    "            if np.random.rand() < C:\n",
    "                B[i, j] = np.random.normal(0, sigma)\n",
    "    np.fill_diagonal(B, -dB)\n",
    "    return B\n",
    "\n",
    "def generate_diagonal_matrix(S, d):\n",
    "    '''\n",
    "    Generate a diagonal matrix with a constant diagonal d.\n",
    "    \n",
    "    Parameters\n",
    "    ----------\n",
    "    S : int\n",
    "        Number of species.\n",
    "    d : float  \n",
    "        Diagonal element.\n",
    "    \n",
    "    Returns\n",
    "    -------\n",
    "    A : array_like\n",
    "        Diagonal matrix.\n",
    "    '''\n",
    "    \n",
    "    A = np.zeros((S, S))\n",
    "    np.fill_diagonal(A, d)\n",
    "    return A\n",
    "\n",
    "def eigenvalues_discrete_delay(A, B, tau):\n",
    "    '''\n",
    "    Compute the eigenvalues of the discrete delay equation.\n",
    "    \n",
    "    Parameters\n",
    "    ----------\n",
    "    A : array_like\n",
    "        non-delayed Jacobian matrix.\n",
    "    B : array_like\n",
    "        delayed Jacobian matrix.\n",
    "    tau : float\n",
    "        delay.\n",
    "        \n",
    "    Returns\n",
    "    -------\n",
    "    eigenvalues : array_like\n",
    "        eigenvalues of the discrete delay equation.\n",
    "    '''\n",
    "    \n",
    "    # Compute the eigenvalues of the discrete delay matrix\n",
    "    eigenvaluesB = linalg.eigvals(B)[0]\n",
    "    # Compute the eigenvalues of the non-delayed matrix (since it is diagonal, it is just the diagonal elements)\n",
    "    eigenvaluesA = A[0,0]\n",
    "    # Compute the eigenvalues of the discrete delay equation\n",
    "    if tau == 0:\n",
    "        eigenvalues = eigenvaluesA + eigenvaluesB\n",
    "    elif tau > 0:\n",
    "        eigenvalues = eigenvaluesA+lambertw(eigenvaluesB*tau*np.exp(-eigenvaluesA*tau))/tau\n",
    "    return eigenvalues"
   ]
  },
  {
   "attachments": {},
   "cell_type": "markdown",
   "metadata": {},
   "source": [
    "# Discrete delay"
   ]
  },
  {
   "cell_type": "code",
   "execution_count": null,
   "metadata": {},
   "outputs": [],
   "source": []
  },
  {
   "cell_type": "code",
   "execution_count": null,
   "metadata": {},
   "outputs": [],
   "source": [
    "import pandas as pd\n",
    "import numpy as np\n",
    "import scipy as sp\n",
    "\n",
    "from scipy.special import lambertw\n",
    "from scipy import linalg\n",
    "from scipy.stats import norm\n",
    "\n",
    "import os\n",
    "from os.path import isfile, join\n",
    "\n",
    "#%matplotlib notebook\n",
    "import matplotlib.pyplot as plt\n",
    "import matplotlib.gridspec as gridspec\n",
    "from matplotlib import cm, rc, rcParams\n",
    "from matplotlib import colors\n",
    "from mpl_toolkits.axes_grid1.inset_locator import (inset_axes, InsetPosition,\n",
    "                                                  mark_inset)\n",
    "\n",
    "rc('font', **{'family':'serif', 'serif':['Computer Modern'], 'size':26})\n",
    "rc('text', usetex=True)\n",
    "#rcParams['text.latex.preamble']=[r'\\usepackage{amsmath}', r'\\boldmath']\n",
    "\n",
    "\n",
    "textwidth = 426*1/72.27 # textwidth in inches\n",
    "columnwidth = 246*1/72.27 # columnwidth in inches\n",
    "\n",
    "textwidth = 426*1/72.27 # textwidth in inches\n",
    "columnwidth = 246*1/72.27 # columnwidth in inches"
   ]
  }
 ],
 "metadata": {
  "kernelspec": {
   "display_name": "base",
   "language": "python",
   "name": "python3"
  },
  "language_info": {
   "codemirror_mode": {
    "name": "ipython",
    "version": 3
   },
   "file_extension": ".py",
   "mimetype": "text/x-python",
   "name": "python",
   "nbconvert_exporter": "python",
   "pygments_lexer": "ipython3",
   "version": "3.9.12"
  },
  "orig_nbformat": 4
 },
 "nbformat": 4,
 "nbformat_minor": 2
}
